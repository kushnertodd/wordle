{
 "cells": [
  {
   "cell_type": "markdown",
   "id": "752addfa-cd7a-415f-9b74-a1e0af709ee3",
   "metadata": {},
   "source": [
    "# Python program to suggest Wordle words\n",
    "\n",
    "This is to find all possible Wordle words given the available letters and letters that have fixed positions\n",
    "\n",
    "```\n",
    "  usage:\n",
    "    python wordle.py possible required exact\n",
    "where:\n",
    "    possible  all the letters that could be in the word\n",
    "              all the letters that aren't dark grey on the keyboard\n",
    "    required  all the letters that must be in the word\n",
    "              all the letters that are green or yellow on the keyboard\n",
    "    exact     the letters that are known to be in an exact position\n",
    "              the form is \"ccccc\" where \"c\" is:\n",
    "                   the letter is green at that position\n",
    "                   \".\" if the letter is yellow to grey at that position\n",
    "                   so t-green r-green i-yellow a-yellow l-grey\n",
    "                       is coded as \"tr...\"\n",
    "    excluded  the letters known not to be at a position, in the form\n",
    "                  lll-lll-lll--lll\n",
    "```"
   ]
  },
  {
   "cell_type": "code",
   "execution_count": 1,
   "id": "a89b61fb-9584-427c-a841-11720664d0e7",
   "metadata": {},
   "outputs": [
    {
     "name": "stdin",
     "output_type": "stream",
     "text": [
      "enter all the letters that could be in the word qwrtyipadfgjklzxcvbm\n",
      "all the letters that must be in the word trai\n",
      "the letters that are known to be in an exact position like \"..e.r\" t.a..\n",
      "the letters that are known to be needed but are not in an exact position like \"ra--s-t- -r--i-\n"
     ]
    },
    {
     "name": "stdout",
     "output_type": "stream",
     "text": [
      "tiara\n",
      "tragi\n",
      "traik\n",
      "trail\n",
      "trait\n"
     ]
    }
   ],
   "source": [
    "import sys\n",
    "import re\n",
    "def check_dictionary_word(dictionary_word, possible, required, exact):\n",
    "    # check that all possible characters are in the dictionary word\n",
    "    for c in dictionary_word:\n",
    "        if not c in possible:\n",
    "            return False\n",
    "    # check that all dictionary characters are in the required letters\n",
    "    for c in required:\n",
    "        if not c in dictionary_word:\n",
    "            return False\n",
    "    # check that the dictionary word matches the letters in the exact position\n",
    "    if re.search(exact, dictionary_word):\n",
    "        return True\n",
    "    else:\n",
    "        return False\n",
    "\n",
    "# main program\n",
    "possible = input('enter all the letters that could be in the word')\n",
    "required = input('all the letters that must be in the word')\n",
    "exact = input('the letters that are known to be in an exact position like \"..e.r\"')\n",
    "excluded = input('the letters that are known to be needed but are not in an exact position like \"ra--s-t-')\n",
    "f = open(\"dict5.txt\")\n",
    "for next_line in f:\n",
    "    dictionary_word = next_line.strip()  # remove newline\n",
    "    if check_dictionary_word(dictionary_word, possible, required, exact):\n",
    "        print(dictionary_word)\n",
    "f.close()\n",
    "\n"
   ]
  },
  {
   "cell_type": "code",
   "execution_count": null,
   "id": "9bb16dba-2a10-47f1-b36a-8897a6ba9b5f",
   "metadata": {},
   "outputs": [],
   "source": []
  }
 ],
 "metadata": {
  "kernelspec": {
   "display_name": "Python 3 (ipykernel)",
   "language": "python",
   "name": "python3"
  },
  "language_info": {
   "codemirror_mode": {
    "name": "ipython",
    "version": 3
   },
   "file_extension": ".py",
   "mimetype": "text/x-python",
   "name": "python",
   "nbconvert_exporter": "python",
   "pygments_lexer": "ipython3",
   "version": "3.10.4"
  }
 },
 "nbformat": 4,
 "nbformat_minor": 5
}
