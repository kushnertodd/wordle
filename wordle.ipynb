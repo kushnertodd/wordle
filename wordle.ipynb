{
 "cells": [
  {
   "cell_type": "markdown",
   "id": "752addfa-cd7a-415f-9b74-a1e0af709ee3",
   "metadata": {},
   "source": [
    "# Python program to suggest Wordle words\n",
    "\n",
    "This is to find all possible Wordle words given the available letters and letters that have fixed positions\n",
    "\n",
    "```\n",
    "  usage:\n",
    "    python wordle.py possible required exact\n",
    "where:\n",
    "    possible  all the letters that could be in the word\n",
    "              all the letters that aren't dark grey on the keyboard\n",
    "    required  all the letters that must be in the word\n",
    "              all the letters that are green or yellow on the keyboard\n",
    "    exact     the letters that are known to be in an exact position\n",
    "              the form is \"ccccc\" where \"c\" is:\n",
    "                   the letter is green at that position\n",
    "                   \".\" if the letter is yellow to grey at that position\n",
    "                   so t-green r-green i-yellow a-yellow l-grey\n",
    "                       is coded as \"tr...\"\n",
    "    excluded  the letters known not to be at a position, in the form\n",
    "                  lll-lll-lll--lll\n",
    "```"
   ]
  },
  {
   "cell_type": "code",
   "execution_count": 3,
   "id": "a89b61fb-9584-427c-a841-11720664d0e7",
   "metadata": {},
   "outputs": [
    {
     "name": "stdin",
     "output_type": "stream",
     "text": [
      "enter all the letters that could be in the word qwetyopadfgjklzxcvbm\n",
      "all the letters that must be in the word toan\n",
      "the letters that are known to be in an exact position like \"..e.r\" ....e\n",
      "the letters that are known to be needed but are not in an exact position like \"ra--s-t-\" t-o-a--n\n"
     ]
    }
   ],
   "source": [
    "import sys\n",
    "import re\n",
    "def check_dictionary_word(dictionary_word, possible, required, exact_chars, excluded_chars):\n",
    "    debug = True\n",
    "    #print(f'check_dictionary_word({dictionary_word}, {possible}, {required}, {exact_chars}, {excluded_chars}')\n",
    "    # check that all possible characters are in the dictionary word\n",
    "    for c in dictionary_word:\n",
    "        if not c in possible:\n",
    "            return False\n",
    "    # check that all dictionary characters are in the required letters\n",
    "    for c in required:\n",
    "        if not c in dictionary_word:\n",
    "            return False\n",
    "    # check that excluded characters are not matched\n",
    "    for i in range(5):\n",
    "        x = excluded_chars[i]\n",
    "        c = dictionary_word[i]\n",
    "        if c in x:\n",
    "            #print(f'{dictionary_word} failing \"{c}\" at \"{i}\" in \"{x}\" of \"{excluded_chars}\"')\n",
    "            return False\n",
    "    # check that the dictionary word matches the letters in the exact position\n",
    "    if re.search(exact_chars, dictionary_word):\n",
    "        return True\n",
    "    else:\n",
    "        return False\n",
    "\n",
    "# main program\n",
    "possible = input('enter all the letters that could be in the word')\n",
    "required = input('all the letters that must be in the word')\n",
    "exact_chars = input('the letters that are known to be in an exact position like \"..e.r\"')\n",
    "if len(exact_chars) != 5:\n",
    "    print(f'exact characters must have 5 letters: \"{exact_chars}\"')\n",
    "excluded = input('the letters that are known to be needed but are not in an exact position like \"ra--s-t-\"')\n",
    "excluded_chars = excluded.split(\"-\")\n",
    "if len(excluded_chars) != 5:\n",
    "    print(f'excluded characters must have 5 \"-\"-delimitedfields: \"{excluded_chars}\"')\n",
    "\n",
    "f = open(\"dict5.txt\")\n",
    "for next_line in f:\n",
    "    dictionary_word = next_line.strip()  # remove newline\n",
    "    if check_dictionary_word(dictionary_word, possible, required, exact_chars, excluded_chars):\n",
    "        print(dictionary_word)\n",
    "f.close()\n",
    "\n",
    "\n"
   ]
  },
  {
   "cell_type": "code",
   "execution_count": null,
   "id": "a9a07cc1-655d-4a7c-9c9d-9f1b1bf66078",
   "metadata": {},
   "outputs": [],
   "source": []
  },
  {
   "cell_type": "code",
   "execution_count": null,
   "id": "9bb16dba-2a10-47f1-b36a-8897a6ba9b5f",
   "metadata": {},
   "outputs": [],
   "source": []
  }
 ],
 "metadata": {
  "kernelspec": {
   "display_name": "Python 3 (ipykernel)",
   "language": "python",
   "name": "python3"
  },
  "language_info": {
   "codemirror_mode": {
    "name": "ipython",
    "version": 3
   },
   "file_extension": ".py",
   "mimetype": "text/x-python",
   "name": "python",
   "nbconvert_exporter": "python",
   "pygments_lexer": "ipython3",
   "version": "3.10.5"
  }
 },
 "nbformat": 4,
 "nbformat_minor": 5
}
